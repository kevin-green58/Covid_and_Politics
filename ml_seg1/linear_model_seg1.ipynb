{
 "cells": [
  {
   "cell_type": "code",
   "execution_count": 33,
   "metadata": {},
   "outputs": [],
   "source": [
    "# import dependencies\n",
    "import pandas as pd\n",
    "from pathlib import Path\n",
    "import matplotlib.pyplot as plt\n",
    "from sklearn.linear_model import LinearRegression\n",
    "from sklearn.model_selection import train_test_split\n",
    "from sklearn.naive_bayes import GaussianNB\n",
    "from sklearn.preprocessing import StandardScaler\n",
    "from sklearn.metrics import classification_report"
   ]
  },
  {
   "cell_type": "code",
   "execution_count": 7,
   "metadata": {},
   "outputs": [
    {
     "data": {
      "text/html": [
       "<div>\n",
       "<style scoped>\n",
       "    .dataframe tbody tr th:only-of-type {\n",
       "        vertical-align: middle;\n",
       "    }\n",
       "\n",
       "    .dataframe tbody tr th {\n",
       "        vertical-align: top;\n",
       "    }\n",
       "\n",
       "    .dataframe thead th {\n",
       "        text-align: right;\n",
       "    }\n",
       "</style>\n",
       "<table border=\"1\" class=\"dataframe\">\n",
       "  <thead>\n",
       "    <tr style=\"text-align: right;\">\n",
       "      <th></th>\n",
       "      <th>county</th>\n",
       "      <th>state</th>\n",
       "      <th>percentage16_Donald_Trump</th>\n",
       "      <th>percentage16_Hillary_Clinton</th>\n",
       "      <th>total_votes16</th>\n",
       "      <th>votes16_Donald_Trump</th>\n",
       "      <th>votes16_Hillary_Clinton</th>\n",
       "      <th>percentage20_Donald_Trump</th>\n",
       "      <th>percentage20_Joe_Biden</th>\n",
       "      <th>total_votes20</th>\n",
       "      <th>...</th>\n",
       "      <th>Walk</th>\n",
       "      <th>OtherTransp</th>\n",
       "      <th>WorkAtHome</th>\n",
       "      <th>MeanCommute</th>\n",
       "      <th>Employed</th>\n",
       "      <th>PrivateWork</th>\n",
       "      <th>PublicWork</th>\n",
       "      <th>SelfEmployed</th>\n",
       "      <th>FamilyWork</th>\n",
       "      <th>Unemployment</th>\n",
       "    </tr>\n",
       "  </thead>\n",
       "  <tbody>\n",
       "    <tr>\n",
       "      <th>0</th>\n",
       "      <td>Abbeville</td>\n",
       "      <td>SC</td>\n",
       "      <td>0.629</td>\n",
       "      <td>0.346</td>\n",
       "      <td>10724</td>\n",
       "      <td>6742</td>\n",
       "      <td>3712</td>\n",
       "      <td>0.661</td>\n",
       "      <td>0.330</td>\n",
       "      <td>12433.0</td>\n",
       "      <td>...</td>\n",
       "      <td>1.8</td>\n",
       "      <td>1.8</td>\n",
       "      <td>6.5</td>\n",
       "      <td>25.8</td>\n",
       "      <td>9505.0</td>\n",
       "      <td>78.8</td>\n",
       "      <td>13.3</td>\n",
       "      <td>7.8</td>\n",
       "      <td>0.1</td>\n",
       "      <td>9.4</td>\n",
       "    </tr>\n",
       "    <tr>\n",
       "      <th>1</th>\n",
       "      <td>Acadia</td>\n",
       "      <td>LA</td>\n",
       "      <td>0.773</td>\n",
       "      <td>0.206</td>\n",
       "      <td>27386</td>\n",
       "      <td>21159</td>\n",
       "      <td>5638</td>\n",
       "      <td>0.795</td>\n",
       "      <td>0.191</td>\n",
       "      <td>28425.0</td>\n",
       "      <td>...</td>\n",
       "      <td>1.6</td>\n",
       "      <td>2.2</td>\n",
       "      <td>2.5</td>\n",
       "      <td>27.6</td>\n",
       "      <td>24982.0</td>\n",
       "      <td>80.0</td>\n",
       "      <td>12.1</td>\n",
       "      <td>7.6</td>\n",
       "      <td>0.3</td>\n",
       "      <td>8.9</td>\n",
       "    </tr>\n",
       "    <tr>\n",
       "      <th>2</th>\n",
       "      <td>Accomack</td>\n",
       "      <td>VA</td>\n",
       "      <td>0.545</td>\n",
       "      <td>0.428</td>\n",
       "      <td>15755</td>\n",
       "      <td>8582</td>\n",
       "      <td>6737</td>\n",
       "      <td>0.542</td>\n",
       "      <td>0.447</td>\n",
       "      <td>16938.0</td>\n",
       "      <td>...</td>\n",
       "      <td>2.6</td>\n",
       "      <td>1.8</td>\n",
       "      <td>4.5</td>\n",
       "      <td>22.0</td>\n",
       "      <td>13837.0</td>\n",
       "      <td>74.6</td>\n",
       "      <td>18.1</td>\n",
       "      <td>7.1</td>\n",
       "      <td>0.2</td>\n",
       "      <td>5.4</td>\n",
       "    </tr>\n",
       "    <tr>\n",
       "      <th>3</th>\n",
       "      <td>Ada</td>\n",
       "      <td>ID</td>\n",
       "      <td>0.479</td>\n",
       "      <td>0.387</td>\n",
       "      <td>195587</td>\n",
       "      <td>93748</td>\n",
       "      <td>75676</td>\n",
       "      <td>0.504</td>\n",
       "      <td>0.465</td>\n",
       "      <td>259389.0</td>\n",
       "      <td>...</td>\n",
       "      <td>1.5</td>\n",
       "      <td>2.8</td>\n",
       "      <td>6.9</td>\n",
       "      <td>20.4</td>\n",
       "      <td>214984.0</td>\n",
       "      <td>78.3</td>\n",
       "      <td>15.0</td>\n",
       "      <td>6.6</td>\n",
       "      <td>0.1</td>\n",
       "      <td>4.3</td>\n",
       "    </tr>\n",
       "    <tr>\n",
       "      <th>4</th>\n",
       "      <td>Adair</td>\n",
       "      <td>IA</td>\n",
       "      <td>0.653</td>\n",
       "      <td>0.300</td>\n",
       "      <td>3759</td>\n",
       "      <td>2456</td>\n",
       "      <td>1127</td>\n",
       "      <td>0.697</td>\n",
       "      <td>0.286</td>\n",
       "      <td>4183.0</td>\n",
       "      <td>...</td>\n",
       "      <td>2.8</td>\n",
       "      <td>0.4</td>\n",
       "      <td>6.2</td>\n",
       "      <td>22.3</td>\n",
       "      <td>3680.0</td>\n",
       "      <td>73.8</td>\n",
       "      <td>15.3</td>\n",
       "      <td>10.4</td>\n",
       "      <td>0.5</td>\n",
       "      <td>3.0</td>\n",
       "    </tr>\n",
       "  </tbody>\n",
       "</table>\n",
       "<p>5 rows × 50 columns</p>\n",
       "</div>"
      ],
      "text/plain": [
       "      county state  percentage16_Donald_Trump  percentage16_Hillary_Clinton  \\\n",
       "0  Abbeville    SC                      0.629                         0.346   \n",
       "1     Acadia    LA                      0.773                         0.206   \n",
       "2   Accomack    VA                      0.545                         0.428   \n",
       "3        Ada    ID                      0.479                         0.387   \n",
       "4      Adair    IA                      0.653                         0.300   \n",
       "\n",
       "   total_votes16  votes16_Donald_Trump  votes16_Hillary_Clinton  \\\n",
       "0          10724                  6742                     3712   \n",
       "1          27386                 21159                     5638   \n",
       "2          15755                  8582                     6737   \n",
       "3         195587                 93748                    75676   \n",
       "4           3759                  2456                     1127   \n",
       "\n",
       "   percentage20_Donald_Trump  percentage20_Joe_Biden  total_votes20  ...  \\\n",
       "0                      0.661                   0.330        12433.0  ...   \n",
       "1                      0.795                   0.191        28425.0  ...   \n",
       "2                      0.542                   0.447        16938.0  ...   \n",
       "3                      0.504                   0.465       259389.0  ...   \n",
       "4                      0.697                   0.286         4183.0  ...   \n",
       "\n",
       "   Walk  OtherTransp  WorkAtHome  MeanCommute  Employed  PrivateWork  \\\n",
       "0   1.8          1.8         6.5         25.8    9505.0         78.8   \n",
       "1   1.6          2.2         2.5         27.6   24982.0         80.0   \n",
       "2   2.6          1.8         4.5         22.0   13837.0         74.6   \n",
       "3   1.5          2.8         6.9         20.4  214984.0         78.3   \n",
       "4   2.8          0.4         6.2         22.3    3680.0         73.8   \n",
       "\n",
       "   PublicWork  SelfEmployed  FamilyWork  Unemployment  \n",
       "0        13.3           7.8         0.1           9.4  \n",
       "1        12.1           7.6         0.3           8.9  \n",
       "2        18.1           7.1         0.2           5.4  \n",
       "3        15.0           6.6         0.1           4.3  \n",
       "4        15.3          10.4         0.5           3.0  \n",
       "\n",
       "[5 rows x 50 columns]"
      ]
     },
     "execution_count": 7,
     "metadata": {},
     "output_type": "execute_result"
    }
   ],
   "source": [
    "# read in csv as dataframe\n",
    "df = pd.read_csv(\"county_statistics_for_model.csv\", index_col=0)\n",
    "df.head()"
   ]
  },
  {
   "cell_type": "code",
   "execution_count": 8,
   "metadata": {},
   "outputs": [
    {
     "data": {
      "text/plain": [
       "Index(['county', 'state', 'percentage16_Donald_Trump',\n",
       "       'percentage16_Hillary_Clinton', 'total_votes16', 'votes16_Donald_Trump',\n",
       "       'votes16_Hillary_Clinton', 'percentage20_Donald_Trump',\n",
       "       'percentage20_Joe_Biden', 'total_votes20', 'votes20_Donald_Trump',\n",
       "       'votes20_Joe_Biden', 'lat', 'long', 'cases', 'deaths', 'TotalPop',\n",
       "       'Men', 'Women', 'Hispanic', 'White', 'Black', 'Native', 'Asian',\n",
       "       'Pacific', 'VotingAgeCitizen', 'Income', 'IncomeErr', 'IncomePerCap',\n",
       "       'IncomePerCapErr', 'Poverty', 'ChildPoverty', 'Professional', 'Service',\n",
       "       'Office', 'Construction', 'Production', 'Drive', 'Carpool', 'Transit',\n",
       "       'Walk', 'OtherTransp', 'WorkAtHome', 'MeanCommute', 'Employed',\n",
       "       'PrivateWork', 'PublicWork', 'SelfEmployed', 'FamilyWork',\n",
       "       'Unemployment'],\n",
       "      dtype='object')"
      ]
     },
     "execution_count": 8,
     "metadata": {},
     "output_type": "execute_result"
    }
   ],
   "source": [
    "# check columns\n",
    "df.columns"
   ]
  },
  {
   "cell_type": "code",
   "execution_count": 9,
   "metadata": {},
   "outputs": [
    {
     "data": {
      "text/plain": [
       "Index(['county', 'state', 'percentage20_Donald_Trump',\n",
       "       'percentage20_Joe_Biden', 'total_votes20', 'votes20_Donald_Trump',\n",
       "       'votes20_Joe_Biden', 'cases', 'TotalPop', 'Men', 'Women', 'Hispanic',\n",
       "       'White', 'Black', 'Native', 'Asian', 'Pacific', 'VotingAgeCitizen',\n",
       "       'Income', 'IncomeErr', 'IncomePerCap', 'IncomePerCapErr', 'Poverty',\n",
       "       'ChildPoverty', 'Professional', 'Service', 'Office', 'Construction',\n",
       "       'Production', 'Drive', 'Carpool', 'Transit', 'Walk', 'OtherTransp',\n",
       "       'WorkAtHome', 'MeanCommute', 'Employed', 'PrivateWork', 'PublicWork',\n",
       "       'SelfEmployed', 'FamilyWork', 'Unemployment'],\n",
       "      dtype='object')"
      ]
     },
     "execution_count": 9,
     "metadata": {},
     "output_type": "execute_result"
    }
   ],
   "source": [
    "# drop unnecessary rows for analysis\n",
    "df = df.drop(['percentage16_Donald_Trump', 'percentage16_Hillary_Clinton', 'total_votes16', 'votes16_Donald_Trump', 'votes16_Hillary_Clinton', 'lat', 'long', 'deaths'], axis = 1)\n",
    "df.columns"
   ]
  },
  {
   "cell_type": "code",
   "execution_count": 10,
   "metadata": {},
   "outputs": [
    {
     "data": {
      "text/plain": [
       "county                       0\n",
       "state                        0\n",
       "percentage20_Donald_Trump    0\n",
       "percentage20_Joe_Biden       0\n",
       "total_votes20                0\n",
       "votes20_Donald_Trump         0\n",
       "votes20_Joe_Biden            0\n",
       "cases                        0\n",
       "TotalPop                     0\n",
       "Men                          0\n",
       "Women                        0\n",
       "Hispanic                     0\n",
       "White                        0\n",
       "Black                        0\n",
       "Native                       0\n",
       "Asian                        0\n",
       "Pacific                      0\n",
       "VotingAgeCitizen             0\n",
       "Income                       0\n",
       "IncomeErr                    0\n",
       "IncomePerCap                 0\n",
       "IncomePerCapErr              0\n",
       "Poverty                      0\n",
       "ChildPoverty                 0\n",
       "Professional                 0\n",
       "Service                      0\n",
       "Office                       0\n",
       "Construction                 0\n",
       "Production                   0\n",
       "Drive                        0\n",
       "Carpool                      0\n",
       "Transit                      0\n",
       "Walk                         0\n",
       "OtherTransp                  0\n",
       "WorkAtHome                   0\n",
       "MeanCommute                  0\n",
       "Employed                     0\n",
       "PrivateWork                  0\n",
       "PublicWork                   0\n",
       "SelfEmployed                 0\n",
       "FamilyWork                   0\n",
       "Unemployment                 0\n",
       "dtype: int64"
      ]
     },
     "execution_count": 10,
     "metadata": {},
     "output_type": "execute_result"
    }
   ],
   "source": [
    "# drop rows with null values and check if there are any nulls in columns after\n",
    "df = df.dropna(axis = 0, how = 'any')\n",
    "df.isnull().sum()"
   ]
  },
  {
   "cell_type": "code",
   "execution_count": 11,
   "metadata": {},
   "outputs": [
    {
     "data": {
      "text/plain": [
       "county                        object\n",
       "state                         object\n",
       "percentage20_Donald_Trump    float64\n",
       "percentage20_Joe_Biden       float64\n",
       "total_votes20                float64\n",
       "votes20_Donald_Trump         float64\n",
       "votes20_Joe_Biden            float64\n",
       "cases                        float64\n",
       "TotalPop                     float64\n",
       "Men                          float64\n",
       "Women                        float64\n",
       "Hispanic                     float64\n",
       "White                        float64\n",
       "Black                        float64\n",
       "Native                       float64\n",
       "Asian                        float64\n",
       "Pacific                      float64\n",
       "VotingAgeCitizen             float64\n",
       "Income                       float64\n",
       "IncomeErr                    float64\n",
       "IncomePerCap                 float64\n",
       "IncomePerCapErr              float64\n",
       "Poverty                      float64\n",
       "ChildPoverty                 float64\n",
       "Professional                 float64\n",
       "Service                      float64\n",
       "Office                       float64\n",
       "Construction                 float64\n",
       "Production                   float64\n",
       "Drive                        float64\n",
       "Carpool                      float64\n",
       "Transit                      float64\n",
       "Walk                         float64\n",
       "OtherTransp                  float64\n",
       "WorkAtHome                   float64\n",
       "MeanCommute                  float64\n",
       "Employed                     float64\n",
       "PrivateWork                  float64\n",
       "PublicWork                   float64\n",
       "SelfEmployed                 float64\n",
       "FamilyWork                   float64\n",
       "Unemployment                 float64\n",
       "dtype: object"
      ]
     },
     "execution_count": 11,
     "metadata": {},
     "output_type": "execute_result"
    }
   ],
   "source": [
    "# Check datatypes\n",
    "df.dtypes"
   ]
  },
  {
   "cell_type": "code",
   "execution_count": 12,
   "metadata": {},
   "outputs": [
    {
     "data": {
      "text/html": [
       "<div>\n",
       "<style scoped>\n",
       "    .dataframe tbody tr th:only-of-type {\n",
       "        vertical-align: middle;\n",
       "    }\n",
       "\n",
       "    .dataframe tbody tr th {\n",
       "        vertical-align: top;\n",
       "    }\n",
       "\n",
       "    .dataframe thead th {\n",
       "        text-align: right;\n",
       "    }\n",
       "</style>\n",
       "<table border=\"1\" class=\"dataframe\">\n",
       "  <thead>\n",
       "    <tr style=\"text-align: right;\">\n",
       "      <th></th>\n",
       "      <th>county</th>\n",
       "      <th>state</th>\n",
       "    </tr>\n",
       "  </thead>\n",
       "  <tbody>\n",
       "    <tr>\n",
       "      <th>0</th>\n",
       "      <td>Abbeville</td>\n",
       "      <td>SC</td>\n",
       "    </tr>\n",
       "    <tr>\n",
       "      <th>1</th>\n",
       "      <td>Acadia</td>\n",
       "      <td>LA</td>\n",
       "    </tr>\n",
       "    <tr>\n",
       "      <th>2</th>\n",
       "      <td>Accomack</td>\n",
       "      <td>VA</td>\n",
       "    </tr>\n",
       "    <tr>\n",
       "      <th>3</th>\n",
       "      <td>Ada</td>\n",
       "      <td>ID</td>\n",
       "    </tr>\n",
       "    <tr>\n",
       "      <th>4</th>\n",
       "      <td>Adair</td>\n",
       "      <td>IA</td>\n",
       "    </tr>\n",
       "  </tbody>\n",
       "</table>\n",
       "</div>"
      ],
      "text/plain": [
       "      county state\n",
       "0  Abbeville    SC\n",
       "1     Acadia    LA\n",
       "2   Accomack    VA\n",
       "3        Ada    ID\n",
       "4      Adair    IA"
      ]
     },
     "execution_count": 12,
     "metadata": {},
     "output_type": "execute_result"
    }
   ],
   "source": [
    "# separate string columns in separate df to be merged after using model\n",
    "counties_df = df[['county', 'state']]\n",
    "counties_df.head()"
   ]
  },
  {
   "cell_type": "code",
   "execution_count": 13,
   "metadata": {},
   "outputs": [
    {
     "data": {
      "text/html": [
       "<div>\n",
       "<style scoped>\n",
       "    .dataframe tbody tr th:only-of-type {\n",
       "        vertical-align: middle;\n",
       "    }\n",
       "\n",
       "    .dataframe tbody tr th {\n",
       "        vertical-align: top;\n",
       "    }\n",
       "\n",
       "    .dataframe thead th {\n",
       "        text-align: right;\n",
       "    }\n",
       "</style>\n",
       "<table border=\"1\" class=\"dataframe\">\n",
       "  <thead>\n",
       "    <tr style=\"text-align: right;\">\n",
       "      <th></th>\n",
       "      <th>percentage20_Donald_Trump</th>\n",
       "      <th>percentage20_Joe_Biden</th>\n",
       "      <th>total_votes20</th>\n",
       "      <th>votes20_Donald_Trump</th>\n",
       "      <th>votes20_Joe_Biden</th>\n",
       "      <th>cases</th>\n",
       "      <th>TotalPop</th>\n",
       "      <th>Men</th>\n",
       "      <th>Women</th>\n",
       "      <th>Hispanic</th>\n",
       "      <th>...</th>\n",
       "      <th>Walk</th>\n",
       "      <th>OtherTransp</th>\n",
       "      <th>WorkAtHome</th>\n",
       "      <th>MeanCommute</th>\n",
       "      <th>Employed</th>\n",
       "      <th>PrivateWork</th>\n",
       "      <th>PublicWork</th>\n",
       "      <th>SelfEmployed</th>\n",
       "      <th>FamilyWork</th>\n",
       "      <th>Unemployment</th>\n",
       "    </tr>\n",
       "  </thead>\n",
       "  <tbody>\n",
       "    <tr>\n",
       "      <th>0</th>\n",
       "      <td>0.661</td>\n",
       "      <td>0.330</td>\n",
       "      <td>12433.0</td>\n",
       "      <td>8215.0</td>\n",
       "      <td>4101.0</td>\n",
       "      <td>805.0</td>\n",
       "      <td>24788.0</td>\n",
       "      <td>12044.0</td>\n",
       "      <td>12744.0</td>\n",
       "      <td>1.3</td>\n",
       "      <td>...</td>\n",
       "      <td>1.8</td>\n",
       "      <td>1.8</td>\n",
       "      <td>6.5</td>\n",
       "      <td>25.8</td>\n",
       "      <td>9505.0</td>\n",
       "      <td>78.8</td>\n",
       "      <td>13.3</td>\n",
       "      <td>7.8</td>\n",
       "      <td>0.1</td>\n",
       "      <td>9.4</td>\n",
       "    </tr>\n",
       "    <tr>\n",
       "      <th>1</th>\n",
       "      <td>0.795</td>\n",
       "      <td>0.191</td>\n",
       "      <td>28425.0</td>\n",
       "      <td>22596.0</td>\n",
       "      <td>5443.0</td>\n",
       "      <td>3182.0</td>\n",
       "      <td>62607.0</td>\n",
       "      <td>30433.0</td>\n",
       "      <td>32174.0</td>\n",
       "      <td>2.4</td>\n",
       "      <td>...</td>\n",
       "      <td>1.6</td>\n",
       "      <td>2.2</td>\n",
       "      <td>2.5</td>\n",
       "      <td>27.6</td>\n",
       "      <td>24982.0</td>\n",
       "      <td>80.0</td>\n",
       "      <td>12.1</td>\n",
       "      <td>7.6</td>\n",
       "      <td>0.3</td>\n",
       "      <td>8.9</td>\n",
       "    </tr>\n",
       "    <tr>\n",
       "      <th>2</th>\n",
       "      <td>0.542</td>\n",
       "      <td>0.447</td>\n",
       "      <td>16938.0</td>\n",
       "      <td>9172.0</td>\n",
       "      <td>7578.0</td>\n",
       "      <td>1227.0</td>\n",
       "      <td>32840.0</td>\n",
       "      <td>16079.0</td>\n",
       "      <td>16761.0</td>\n",
       "      <td>8.8</td>\n",
       "      <td>...</td>\n",
       "      <td>2.6</td>\n",
       "      <td>1.8</td>\n",
       "      <td>4.5</td>\n",
       "      <td>22.0</td>\n",
       "      <td>13837.0</td>\n",
       "      <td>74.6</td>\n",
       "      <td>18.1</td>\n",
       "      <td>7.1</td>\n",
       "      <td>0.2</td>\n",
       "      <td>5.4</td>\n",
       "    </tr>\n",
       "    <tr>\n",
       "      <th>3</th>\n",
       "      <td>0.504</td>\n",
       "      <td>0.465</td>\n",
       "      <td>259389.0</td>\n",
       "      <td>130699.0</td>\n",
       "      <td>120539.0</td>\n",
       "      <td>17451.0</td>\n",
       "      <td>435117.0</td>\n",
       "      <td>217999.0</td>\n",
       "      <td>217118.0</td>\n",
       "      <td>7.9</td>\n",
       "      <td>...</td>\n",
       "      <td>1.5</td>\n",
       "      <td>2.8</td>\n",
       "      <td>6.9</td>\n",
       "      <td>20.4</td>\n",
       "      <td>214984.0</td>\n",
       "      <td>78.3</td>\n",
       "      <td>15.0</td>\n",
       "      <td>6.6</td>\n",
       "      <td>0.1</td>\n",
       "      <td>4.3</td>\n",
       "    </tr>\n",
       "    <tr>\n",
       "      <th>4</th>\n",
       "      <td>0.697</td>\n",
       "      <td>0.286</td>\n",
       "      <td>4183.0</td>\n",
       "      <td>2917.0</td>\n",
       "      <td>1197.0</td>\n",
       "      <td>222.0</td>\n",
       "      <td>7192.0</td>\n",
       "      <td>3552.0</td>\n",
       "      <td>3640.0</td>\n",
       "      <td>1.7</td>\n",
       "      <td>...</td>\n",
       "      <td>2.8</td>\n",
       "      <td>0.4</td>\n",
       "      <td>6.2</td>\n",
       "      <td>22.3</td>\n",
       "      <td>3680.0</td>\n",
       "      <td>73.8</td>\n",
       "      <td>15.3</td>\n",
       "      <td>10.4</td>\n",
       "      <td>0.5</td>\n",
       "      <td>3.0</td>\n",
       "    </tr>\n",
       "  </tbody>\n",
       "</table>\n",
       "<p>5 rows × 40 columns</p>\n",
       "</div>"
      ],
      "text/plain": [
       "   percentage20_Donald_Trump  percentage20_Joe_Biden  total_votes20  \\\n",
       "0                      0.661                   0.330        12433.0   \n",
       "1                      0.795                   0.191        28425.0   \n",
       "2                      0.542                   0.447        16938.0   \n",
       "3                      0.504                   0.465       259389.0   \n",
       "4                      0.697                   0.286         4183.0   \n",
       "\n",
       "   votes20_Donald_Trump  votes20_Joe_Biden    cases  TotalPop       Men  \\\n",
       "0                8215.0             4101.0    805.0   24788.0   12044.0   \n",
       "1               22596.0             5443.0   3182.0   62607.0   30433.0   \n",
       "2                9172.0             7578.0   1227.0   32840.0   16079.0   \n",
       "3              130699.0           120539.0  17451.0  435117.0  217999.0   \n",
       "4                2917.0             1197.0    222.0    7192.0    3552.0   \n",
       "\n",
       "      Women  Hispanic  ...  Walk  OtherTransp  WorkAtHome  MeanCommute  \\\n",
       "0   12744.0       1.3  ...   1.8          1.8         6.5         25.8   \n",
       "1   32174.0       2.4  ...   1.6          2.2         2.5         27.6   \n",
       "2   16761.0       8.8  ...   2.6          1.8         4.5         22.0   \n",
       "3  217118.0       7.9  ...   1.5          2.8         6.9         20.4   \n",
       "4    3640.0       1.7  ...   2.8          0.4         6.2         22.3   \n",
       "\n",
       "   Employed  PrivateWork  PublicWork  SelfEmployed  FamilyWork  Unemployment  \n",
       "0    9505.0         78.8        13.3           7.8         0.1           9.4  \n",
       "1   24982.0         80.0        12.1           7.6         0.3           8.9  \n",
       "2   13837.0         74.6        18.1           7.1         0.2           5.4  \n",
       "3  214984.0         78.3        15.0           6.6         0.1           4.3  \n",
       "4    3680.0         73.8        15.3          10.4         0.5           3.0  \n",
       "\n",
       "[5 rows x 40 columns]"
      ]
     },
     "execution_count": 13,
     "metadata": {},
     "output_type": "execute_result"
    }
   ],
   "source": [
    "# drop string columns to only input integers into model\n",
    "df = df.drop(['county', 'state'], axis = 1)\n",
    "df.head()"
   ]
  },
  {
   "cell_type": "code",
   "execution_count": 14,
   "metadata": {},
   "outputs": [],
   "source": [
    "# select cases as target\n",
    "y = df.cases"
   ]
  },
  {
   "cell_type": "code",
   "execution_count": 15,
   "metadata": {},
   "outputs": [],
   "source": [
    "# create features and drop target\n",
    "X = df.drop(['cases'], axis = 1)"
   ]
  },
  {
   "cell_type": "code",
   "execution_count": 16,
   "metadata": {},
   "outputs": [],
   "source": [
    "# instantiate model\n",
    "model = LinearRegression()"
   ]
  },
  {
   "cell_type": "code",
   "execution_count": 17,
   "metadata": {},
   "outputs": [],
   "source": [
    "# split data into training and testing sets\n",
    "X_train, X_test, y_train, y_test = train_test_split(X, y, random_state=48)"
   ]
  },
  {
   "cell_type": "code",
   "execution_count": 18,
   "metadata": {},
   "outputs": [
    {
     "data": {
      "text/plain": [
       "LinearRegression()"
      ]
     },
     "execution_count": 18,
     "metadata": {},
     "output_type": "execute_result"
    }
   ],
   "source": [
    "# Train the model\n",
    "model.fit(X_train, y_train)"
   ]
  },
  {
   "cell_type": "code",
   "execution_count": 19,
   "metadata": {},
   "outputs": [
    {
     "data": {
      "text/plain": [
       "array([426.09403699, 631.58989066, 155.25579963, 328.49074649,\n",
       "       857.94541769])"
      ]
     },
     "execution_count": 19,
     "metadata": {},
     "output_type": "execute_result"
    }
   ],
   "source": [
    "# Make and view predictions\n",
    "y_pred = model.predict(X_train)\n",
    "y_pred[:5]"
   ]
  },
  {
   "cell_type": "code",
   "execution_count": 20,
   "metadata": {},
   "outputs": [
    {
     "data": {
      "text/plain": [
       "0.9518920969540877"
      ]
     },
     "execution_count": 20,
     "metadata": {},
     "output_type": "execute_result"
    }
   ],
   "source": [
    "# Check model's accuracy (1 is highest)\n",
    "model.score(X_train,y_train)"
   ]
  },
  {
   "cell_type": "code",
   "execution_count": 22,
   "metadata": {},
   "outputs": [
    {
     "name": "stdout",
     "output_type": "stream",
     "text": [
      "shape of X is (2284, 39), shape of y is (2284,)\n"
     ]
    }
   ],
   "source": [
    "print(f\"shape of X is {X_train.shape}, shape of y is {y_train.shape}\")"
   ]
  },
  {
   "cell_type": "code",
   "execution_count": 23,
   "metadata": {},
   "outputs": [],
   "source": [
    "# trying Gaussian Naive Bayes classifier\n",
    "nb_model = GaussianNB()"
   ]
  },
  {
   "cell_type": "code",
   "execution_count": 24,
   "metadata": {},
   "outputs": [
    {
     "data": {
      "text/plain": [
       "GaussianNB()"
      ]
     },
     "execution_count": 24,
     "metadata": {},
     "output_type": "execute_result"
    }
   ],
   "source": [
    "# fit nb model\n",
    "nb_model.fit(X_train, y_train)"
   ]
  },
  {
   "cell_type": "code",
   "execution_count": 25,
   "metadata": {},
   "outputs": [
    {
     "data": {
      "text/plain": [
       "array([ 337., 1572.,  320.,   27.,  939.])"
      ]
     },
     "execution_count": 25,
     "metadata": {},
     "output_type": "execute_result"
    }
   ],
   "source": [
    "# Make predictions using nb model\n",
    "nb_predict = nb_model.predict(X_train)\n",
    "nb_predict[:5]"
   ]
  },
  {
   "cell_type": "code",
   "execution_count": 26,
   "metadata": {},
   "outputs": [
    {
     "data": {
      "text/plain": [
       "0.6401050788091068"
      ]
     },
     "execution_count": 26,
     "metadata": {},
     "output_type": "execute_result"
    }
   ],
   "source": [
    "# check score\n",
    "nb_model.score(X_train, y_train)"
   ]
  },
  {
   "cell_type": "markdown",
   "metadata": {},
   "source": [
    "# Using Linear Model with scaled data"
   ]
  },
  {
   "cell_type": "code",
   "execution_count": 36,
   "metadata": {},
   "outputs": [],
   "source": [
    "# Creating a StandardScaler instance.\n",
    "scaler = StandardScaler()\n",
    "# Fitting the Standard Scaler with the training data.\n",
    "X_scaler = scaler.fit(X_train)\n",
    "\n",
    "# Scaling the data.\n",
    "X_train_scaled = X_scaler.transform(X_train)\n",
    "X_test_scaled = X_scaler.transform(X_test)"
   ]
  },
  {
   "cell_type": "code",
   "execution_count": 37,
   "metadata": {},
   "outputs": [],
   "source": [
    "# create linear regression model instance\n",
    "scaled_model = LinearRegression()"
   ]
  },
  {
   "cell_type": "code",
   "execution_count": 41,
   "metadata": {},
   "outputs": [
    {
     "data": {
      "text/plain": [
       "LinearRegression()"
      ]
     },
     "execution_count": 41,
     "metadata": {},
     "output_type": "execute_result"
    }
   ],
   "source": [
    "# fit model with scaled data\n",
    "scaled_model.fit(X_train_scaled, y_train)"
   ]
  },
  {
   "cell_type": "code",
   "execution_count": 42,
   "metadata": {},
   "outputs": [
    {
     "data": {
      "text/plain": [
       "array([-1.14586432e+09, -2.19009631e+09, -5.95389921e+08, -1.55429302e+08,\n",
       "       -1.66161389e+09])"
      ]
     },
     "execution_count": 42,
     "metadata": {},
     "output_type": "execute_result"
    }
   ],
   "source": [
    "# Make and view predictions\n",
    "y_pred_scaled = model.predict(X_train)\n",
    "y_pred_scaled[:5]"
   ]
  },
  {
   "cell_type": "code",
   "execution_count": 43,
   "metadata": {},
   "outputs": [
    {
     "data": {
      "text/plain": [
       "-1820318060146.2312"
      ]
     },
     "execution_count": 43,
     "metadata": {},
     "output_type": "execute_result"
    }
   ],
   "source": [
    "# check score\n",
    "model.score(X_train, y_pred)"
   ]
  },
  {
   "cell_type": "code",
   "execution_count": null,
   "metadata": {},
   "outputs": [],
   "source": []
  }
 ],
 "metadata": {
  "kernelspec": {
   "display_name": "mlenv",
   "language": "python",
   "name": "mlenv"
  },
  "language_info": {
   "codemirror_mode": {
    "name": "ipython",
    "version": 3
   },
   "file_extension": ".py",
   "mimetype": "text/x-python",
   "name": "python",
   "nbconvert_exporter": "python",
   "pygments_lexer": "ipython3",
   "version": "3.7.9"
  }
 },
 "nbformat": 4,
 "nbformat_minor": 4
}
