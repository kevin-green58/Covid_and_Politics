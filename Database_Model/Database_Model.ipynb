{
 "cells": [
  {
   "cell_type": "code",
   "execution_count": 25,
   "metadata": {},
   "outputs": [],
   "source": [
    "# -------------- Database Modeling, initial\n",
    "# Goal: Exploratory Data Analysis"
   ]
  },
  {
   "cell_type": "code",
   "execution_count": 26,
   "metadata": {},
   "outputs": [],
   "source": [
    "# Dependencies and Setup\n",
    "import pandas as pd\n",
    "import numpy as np "
   ]
  },
  {
   "cell_type": "code",
   "execution_count": 27,
   "metadata": {},
   "outputs": [],
   "source": [
    "# File to Load\n",
    "county_statistics_to_load = \"Data/county_statistics.csv\"\n",
    "covid19_us_county_to_load = \"Data/covid19_us_county.csv\"\n",
    "us_county_demographics_to_load = \"Data/us_county_demographics.csv\"\n",
    "us_county_pop_and_shps_to_load = \"Data/us_county_pop_and_shps.csv\"\n",
    "religion_census_to_load = \"Data/U.S. Religion Census Religious Congregations and Membership Study, 2010 (County File).csv\"\n",
    "\n",
    "# Read into and store into a pandas df\n",
    "county_statistics_df = pd.read_csv(county_statistics_to_load)\n",
    "covid19_us_county_df = pd.read_csv(covid19_us_county_to_load)\n",
    "us_county_demographics_df = pd.read_csv(us_county_demographics_to_load)\n",
    "us_county_pop_and_shps_df = pd.read_csv(us_county_pop_and_shps_to_load)\n",
    "religion_census_df = pd.read_csv(religion_census_to_load)"
   ]
  },
  {
   "cell_type": "code",
   "execution_count": 28,
   "metadata": {},
   "outputs": [],
   "source": [
    "# Reviewing individual datasets\n",
    "\n",
    "## county_statistics_df.head()\n",
    "## covid19_us_county_df.head()\n",
    "## us_county_demographics_df.head()\n",
    "## us_county_pop_and_shps_df.head()\n",
    "## religion_census_df.head()"
   ]
  },
  {
   "cell_type": "code",
   "execution_count": 29,
   "metadata": {},
   "outputs": [
    {
     "output_type": "execute_result",
     "data": {
      "text/plain": [
       "Unnamed: 0                        int64\n",
       "county                           object\n",
       "state                            object\n",
       "percentage16_Donald_Trump       float64\n",
       "percentage16_Hillary_Clinton    float64\n",
       "total_votes16                   float64\n",
       "votes16_Donald_Trump            float64\n",
       "votes16_Hillary_Clinton         float64\n",
       "percentage20_Donald_Trump       float64\n",
       "percentage20_Joe_Biden          float64\n",
       "total_votes20                   float64\n",
       "votes20_Donald_Trump            float64\n",
       "votes20_Joe_Biden               float64\n",
       "lat                             float64\n",
       "long                            float64\n",
       "cases                           float64\n",
       "deaths                          float64\n",
       "TotalPop                        float64\n",
       "Men                             float64\n",
       "Women                           float64\n",
       "Hispanic                        float64\n",
       "White                           float64\n",
       "Black                           float64\n",
       "Native                          float64\n",
       "Asian                           float64\n",
       "Pacific                         float64\n",
       "VotingAgeCitizen                float64\n",
       "Income                          float64\n",
       "IncomeErr                       float64\n",
       "IncomePerCap                    float64\n",
       "IncomePerCapErr                 float64\n",
       "Poverty                         float64\n",
       "ChildPoverty                    float64\n",
       "Professional                    float64\n",
       "Service                         float64\n",
       "Office                          float64\n",
       "Construction                    float64\n",
       "Production                      float64\n",
       "Drive                           float64\n",
       "Carpool                         float64\n",
       "Transit                         float64\n",
       "Walk                            float64\n",
       "OtherTransp                     float64\n",
       "WorkAtHome                      float64\n",
       "MeanCommute                     float64\n",
       "Employed                        float64\n",
       "PrivateWork                     float64\n",
       "PublicWork                      float64\n",
       "SelfEmployed                    float64\n",
       "FamilyWork                      float64\n",
       "Unemployment                    float64\n",
       "dtype: object"
      ]
     },
     "metadata": {},
     "execution_count": 29
    }
   ],
   "source": [
    "# Reviewing individual datasets, column levels / null values\n",
    "county_statistics_df.dtypes\n",
    "\n",
    "# Variable to keep, tentative\n",
    "# all, columns except those after income"
   ]
  },
  {
   "cell_type": "code",
   "execution_count": 30,
   "metadata": {},
   "outputs": [
    {
     "output_type": "execute_result",
     "data": {
      "text/plain": [
       "date                               object\n",
       "county                             object\n",
       "state                              object\n",
       "fips                                int64\n",
       "state_fips                          int64\n",
       "county_fips                         int64\n",
       "cases                               int64\n",
       "deaths                              int64\n",
       "new_day_cases                       int64\n",
       "new_day_deaths                      int64\n",
       "cases_per_capita_100k             float64\n",
       "deaths_per_capita_100k            float64\n",
       "new_day_cases_per_capita_100k     float64\n",
       "new_day_deaths_per_capita_100k    float64\n",
       "county_pop_2019_est                 int64\n",
       "pop_per_sq_mile_2010              float64\n",
       "dtype: object"
      ]
     },
     "metadata": {},
     "execution_count": 30
    }
   ],
   "source": [
    "covid19_us_county_df.dtypes\n",
    "\n",
    "# Variable to keep, tentative\n",
    "# date, county, state, cases, deaths, new_day_cases, new_day_deaths"
   ]
  },
  {
   "cell_type": "code",
   "execution_count": 31,
   "metadata": {},
   "outputs": [
    {
     "output_type": "execute_result",
     "data": {
      "text/plain": [
       "state_fips          int64\n",
       "county_fips         int64\n",
       "state              object\n",
       "county             object\n",
       "TOT_POP             int64\n",
       "MALE_PERC         float64\n",
       "FEMALE_PERC       float64\n",
       "WHITE_POP_PERC    float64\n",
       "BLACK_POP_PERC    float64\n",
       "ASIAN_POP_PERC    float64\n",
       "HISP_POP_PERC     float64\n",
       "AGE_OTO4            int64\n",
       "AGE_5TO14           int64\n",
       "AGE_15TO24          int64\n",
       "AGE_25TO34          int64\n",
       "AGE_35TO44          int64\n",
       "AGE_45TO54          int64\n",
       "AGE_55TO64          int64\n",
       "AGE_65TO74          int64\n",
       "AGE_75TO84          int64\n",
       "AGE_84PLUS          int64\n",
       "dtype: object"
      ]
     },
     "metadata": {},
     "execution_count": 31
    }
   ],
   "source": [
    "us_county_demographics_df.dtypes\n",
    "\n",
    "# Variable to keep, tentative\n",
    "# all, except state_fips, county_fips"
   ]
  },
  {
   "cell_type": "code",
   "execution_count": 32,
   "metadata": {},
   "outputs": [
    {
     "output_type": "execute_result",
     "data": {
      "text/plain": [
       "state                   object\n",
       "county                  object\n",
       "fips                     int64\n",
       "county_pop_2019_est    float64\n",
       "county_center_lat      float64\n",
       "county_center_lon      float64\n",
       "center_point            object\n",
       "county_geom             object\n",
       "dtype: object"
      ]
     },
     "metadata": {},
     "execution_count": 32
    }
   ],
   "source": [
    "us_county_pop_and_shps_df.dtypes\n",
    "\n",
    "# Variable to keep, tentative\n",
    "# tentatively, dropping this dataset"
   ]
  },
  {
   "cell_type": "code",
   "execution_count": 33,
   "metadata": {},
   "outputs": [
    {
     "output_type": "execute_result",
     "data": {
      "text/plain": [
       "   TOTCNG   TOTADH     TOTRATE  EVANCNG  EVANADH    EVANRATE  BPRTCNG  \\\n",
       "0   106.0  36938.0  676.878889     79.0  27503.0  503.990000     13.0   \n",
       "1   271.0  96918.0  531.740000    178.0  57986.0  318.138889     17.0   \n",
       "2    89.0  15101.0  549.990000     51.0   8793.0  320.250000     21.0   \n",
       "3    81.0  11430.0  498.800000     63.0  10159.0  443.328889      8.0   \n",
       "4   156.0  37352.0  651.620000    122.0  29223.0  509.800000      2.0   \n",
       "\n",
       "   BPRTADH    BPRTRATE  MPRTCNG  ...  ZOROCNG  ZOROADH  ZORORATE  FIPS  \\\n",
       "0   2291.0   41.978889     12.0  ...      0.0      3.0      0.05  1001   \n",
       "1   3130.0   17.170000     48.0  ...      NaN      NaN       NaN  1003   \n",
       "2   3328.0  121.208889     14.0  ...      NaN      NaN       NaN  1005   \n",
       "3    966.0   42.158889      9.0  ...      NaN      NaN       NaN  1007   \n",
       "4     58.0    1.010000     29.0  ...      NaN      NaN       NaN  1009   \n",
       "\n",
       "   STCODE  STABBR   STNAME  CNTYCODE        CNTYNAME   POP2010  \n",
       "0       1      AL  Alabama         1  Autauga County   54571.0  \n",
       "1       1      AL  Alabama         3  Baldwin County  182265.0  \n",
       "2       1      AL  Alabama         5  Barbour County   27457.0  \n",
       "3       1      AL  Alabama         7     Bibb County   22915.0  \n",
       "4       1      AL  Alabama         9   Blount County   57322.0  \n",
       "\n",
       "[5 rows x 568 columns]"
      ],
      "text/html": "<div>\n<style scoped>\n    .dataframe tbody tr th:only-of-type {\n        vertical-align: middle;\n    }\n\n    .dataframe tbody tr th {\n        vertical-align: top;\n    }\n\n    .dataframe thead th {\n        text-align: right;\n    }\n</style>\n<table border=\"1\" class=\"dataframe\">\n  <thead>\n    <tr style=\"text-align: right;\">\n      <th></th>\n      <th>TOTCNG</th>\n      <th>TOTADH</th>\n      <th>TOTRATE</th>\n      <th>EVANCNG</th>\n      <th>EVANADH</th>\n      <th>EVANRATE</th>\n      <th>BPRTCNG</th>\n      <th>BPRTADH</th>\n      <th>BPRTRATE</th>\n      <th>MPRTCNG</th>\n      <th>...</th>\n      <th>ZOROCNG</th>\n      <th>ZOROADH</th>\n      <th>ZORORATE</th>\n      <th>FIPS</th>\n      <th>STCODE</th>\n      <th>STABBR</th>\n      <th>STNAME</th>\n      <th>CNTYCODE</th>\n      <th>CNTYNAME</th>\n      <th>POP2010</th>\n    </tr>\n  </thead>\n  <tbody>\n    <tr>\n      <th>0</th>\n      <td>106.0</td>\n      <td>36938.0</td>\n      <td>676.878889</td>\n      <td>79.0</td>\n      <td>27503.0</td>\n      <td>503.990000</td>\n      <td>13.0</td>\n      <td>2291.0</td>\n      <td>41.978889</td>\n      <td>12.0</td>\n      <td>...</td>\n      <td>0.0</td>\n      <td>3.0</td>\n      <td>0.05</td>\n      <td>1001</td>\n      <td>1</td>\n      <td>AL</td>\n      <td>Alabama</td>\n      <td>1</td>\n      <td>Autauga County</td>\n      <td>54571.0</td>\n    </tr>\n    <tr>\n      <th>1</th>\n      <td>271.0</td>\n      <td>96918.0</td>\n      <td>531.740000</td>\n      <td>178.0</td>\n      <td>57986.0</td>\n      <td>318.138889</td>\n      <td>17.0</td>\n      <td>3130.0</td>\n      <td>17.170000</td>\n      <td>48.0</td>\n      <td>...</td>\n      <td>NaN</td>\n      <td>NaN</td>\n      <td>NaN</td>\n      <td>1003</td>\n      <td>1</td>\n      <td>AL</td>\n      <td>Alabama</td>\n      <td>3</td>\n      <td>Baldwin County</td>\n      <td>182265.0</td>\n    </tr>\n    <tr>\n      <th>2</th>\n      <td>89.0</td>\n      <td>15101.0</td>\n      <td>549.990000</td>\n      <td>51.0</td>\n      <td>8793.0</td>\n      <td>320.250000</td>\n      <td>21.0</td>\n      <td>3328.0</td>\n      <td>121.208889</td>\n      <td>14.0</td>\n      <td>...</td>\n      <td>NaN</td>\n      <td>NaN</td>\n      <td>NaN</td>\n      <td>1005</td>\n      <td>1</td>\n      <td>AL</td>\n      <td>Alabama</td>\n      <td>5</td>\n      <td>Barbour County</td>\n      <td>27457.0</td>\n    </tr>\n    <tr>\n      <th>3</th>\n      <td>81.0</td>\n      <td>11430.0</td>\n      <td>498.800000</td>\n      <td>63.0</td>\n      <td>10159.0</td>\n      <td>443.328889</td>\n      <td>8.0</td>\n      <td>966.0</td>\n      <td>42.158889</td>\n      <td>9.0</td>\n      <td>...</td>\n      <td>NaN</td>\n      <td>NaN</td>\n      <td>NaN</td>\n      <td>1007</td>\n      <td>1</td>\n      <td>AL</td>\n      <td>Alabama</td>\n      <td>7</td>\n      <td>Bibb County</td>\n      <td>22915.0</td>\n    </tr>\n    <tr>\n      <th>4</th>\n      <td>156.0</td>\n      <td>37352.0</td>\n      <td>651.620000</td>\n      <td>122.0</td>\n      <td>29223.0</td>\n      <td>509.800000</td>\n      <td>2.0</td>\n      <td>58.0</td>\n      <td>1.010000</td>\n      <td>29.0</td>\n      <td>...</td>\n      <td>NaN</td>\n      <td>NaN</td>\n      <td>NaN</td>\n      <td>1009</td>\n      <td>1</td>\n      <td>AL</td>\n      <td>Alabama</td>\n      <td>9</td>\n      <td>Blount County</td>\n      <td>57322.0</td>\n    </tr>\n  </tbody>\n</table>\n<p>5 rows × 568 columns</p>\n</div>"
     },
     "metadata": {},
     "execution_count": 33
    }
   ],
   "source": [
    "religion_census_df.head()\n",
    "\n",
    "# Variable to keep, tentative\n",
    "# tentatively, dropping this dataset without access to key to be able to execute on column names"
   ]
  },
  {
   "cell_type": "code",
   "execution_count": null,
   "metadata": {},
   "outputs": [],
   "source": [
    "# --------------- Tentative Next Step\n",
    "# 1. Transformation 1 - Loop through counties in datasets to delete additional phrase \"County\" in \"County\" columns\n",
    "\n",
    "# 2. Sources - I need to know where the initial datasets are from to be able to speak to their credibility in our paper\n",
    "\n",
    "# 3. Additional Sources\n",
    "# Campaign Donations in 2016 or 2020 by zip code: https://www.opensecrets.org/elections-overview/totals-by-zip-code \n",
    "# Demographic Data: https://usa.ipums.org/usa-action/variables/group?id=demog\n",
    "# Very Detailed CDC database, at request of CDC only: https://docs.google.com/forms/d/e/1FAIpQLSeM9Ih3L7qqI0i5qiaXA7T9iNlcwQOMP1zkNCCTmw5fi-nmMA/viewform\n",
    "\n",
    "# 4. Transformation 2 - Import connection to sqlalchemy and join tables accordingly\n",
    "\n",
    "\n",
    "# 5. Decide - Are we studying California or the US?\n",
    "#US\n",
    "\n",
    "# 6. Transformation 3 - Concatenate county, state and lower case. Subsequently use this as unique identifier with which to do joins."
   ]
  }
 ],
 "metadata": {
  "kernelspec": {
   "display_name": "PythonData",
   "language": "python",
   "name": "pythondata"
  },
  "language_info": {
   "codemirror_mode": {
    "name": "ipython",
    "version": 3
   },
   "file_extension": ".py",
   "mimetype": "text/x-python",
   "name": "python",
   "nbconvert_exporter": "python",
   "pygments_lexer": "ipython3",
   "version": "3.8.3-final"
  }
 },
 "nbformat": 4,
 "nbformat_minor": 4
}